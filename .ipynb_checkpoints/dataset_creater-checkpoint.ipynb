{
 "cells": [
  {
   "cell_type": "code",
   "execution_count": 1,
   "metadata": {},
   "outputs": [],
   "source": [
    "import numpy as np\n",
    "import cv2\n",
    "import matplotlib.pyplot as plt\n",
    "%matplotlib inline\n",
    "import os"
   ]
  },
  {
   "cell_type": "code",
   "execution_count": 2,
   "metadata": {},
   "outputs": [],
   "source": [
    "def display_img(img):\n",
    "    fig = plt.figure(figsize=(25,25))\n",
    "    ax = fig.add_subplot(111)\n",
    "    ax.imshow(img,cmap='gray')"
   ]
  },
  {
   "cell_type": "code",
   "execution_count": null,
   "metadata": {},
   "outputs": [],
   "source": []
  },
  {
   "cell_type": "code",
   "execution_count": 40,
   "metadata": {},
   "outputs": [],
   "source": [
    "# this is a tool to create dataset for local binary patterns classifier\n",
    "# ---> hover the mouse to adjust the rectangle ROI\n",
    "# ---> click one to capture the image - it will be saved in the directory specified in the code\n",
    "# ---> Double click or press \"a key\" to move to next image\n",
    "# ---> Press esc to exit\n",
    "# ---> top left corner will show the task status on clicking and the number of photo being shown"
   ]
  },
  {
   "cell_type": "code",
   "execution_count": 6,
   "metadata": {},
   "outputs": [],
   "source": [
    "temp = os.listdir('test/')\n",
    "\n",
    "drawing = False\n",
    "ix,iy = -1,-1\n",
    "n = 1\n",
    "m = 0\n",
    "\n",
    "img = cv2.imread(f'test/{temp[m]}', 0)\n",
    "preview = img.copy()\n",
    "\n",
    "def draw_rectangle(event, x, y, flags, params):\n",
    "    global ix, iy, preview, n, m, img\n",
    "    \n",
    "    if event == cv2.EVENT_LBUTTONDOWN:\n",
    "        cv2.imwrite(f'def/{n}.jpg', preview[y:y+100, x:x+2700])   # This is the path to saving directory\n",
    "        cv2.putText(preview, f'{m}DONE', (30, 100), cv2.FONT_HERSHEY_PLAIN, 3, (255), 2)\n",
    "        n += 1\n",
    "        \n",
    "    if event == cv2.EVENT_MOUSEMOVE:\n",
    "        preview = img.copy()\n",
    "        cv2.rectangle(preview, (x,y), (x+2700,y+100), (255), 4)\n",
    "        \n",
    "    if event == cv2.EVENT_LBUTTONDBLCLK:\n",
    "        m += 1\n",
    "        if m == len(temp):\n",
    "            cv2.putText(img, 'LAST', (30, 100), cv2.FONT_HERSHEY_PLAIN, 3, (255), 2)\n",
    "  \n",
    "        img = cv2.imread(f'test/{temp[m]}', 0)\n",
    "        preview = img.copy()\n",
    "        cv2.putText(preview, 'CHANGED', (30, 100), cv2.FONT_HERSHEY_PLAIN, 3, (255), 2)\n",
    "\n",
    "    \n",
    "        \n",
    "cv2.namedWindow('img', cv2.WINDOW_KEEPRATIO)\n",
    "cv2.resizeWindow('img', 1450,500) \n",
    "cv2.setMouseCallback('img',draw_rectangle)\n",
    "\n",
    "#preview = img.copy()\n",
    "\n",
    "while True:\n",
    "    cv2.imshow('img', preview)\n",
    "    \n",
    "    if cv2.waitKey(1) & 0xFF == ord('a'):\n",
    "        m += 1\n",
    "        img = cv2.imread(f'test/{temp[m]}', 0)\n",
    "    elif cv2.waitKey(1) & 0xFF == 27:\n",
    "        break\n",
    "cv2.destroyAllWindows()"
   ]
  },
  {
   "cell_type": "code",
   "execution_count": null,
   "metadata": {},
   "outputs": [],
   "source": []
  },
  {
   "cell_type": "code",
   "execution_count": null,
   "metadata": {},
   "outputs": [],
   "source": []
  },
  {
   "cell_type": "code",
   "execution_count": null,
   "metadata": {},
   "outputs": [],
   "source": []
  }
 ],
 "metadata": {
  "kernelspec": {
   "display_name": "Python 3",
   "language": "python",
   "name": "python3"
  },
  "language_info": {
   "codemirror_mode": {
    "name": "ipython",
    "version": 3
   },
   "file_extension": ".py",
   "mimetype": "text/x-python",
   "name": "python",
   "nbconvert_exporter": "python",
   "pygments_lexer": "ipython3",
   "version": "3.6.6"
  }
 },
 "nbformat": 4,
 "nbformat_minor": 2
}
